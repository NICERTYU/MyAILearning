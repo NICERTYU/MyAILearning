{
 "cells": [
  {
   "cell_type": "code",
   "execution_count": 6,
   "metadata": {},
   "outputs": [
    {
     "ename": "SyntaxError",
     "evalue": "invalid syntax (1118019100.py, line 3)",
     "output_type": "error",
     "traceback": [
      "\u001b[0;36m  Cell \u001b[0;32mIn[6], line 3\u001b[0;36m\u001b[0m\n\u001b[0;31m    import OpenGL.GL import *\u001b[0m\n\u001b[0m                     ^\u001b[0m\n\u001b[0;31mSyntaxError\u001b[0m\u001b[0;31m:\u001b[0m invalid syntax\n"
     ]
    }
   ],
   "source": [
    "\n",
    "import sys\n",
    "\n",
    "import OpenGL.GL import *\n",
    "import OpenGL.GLUT import *\n",
    "\n",
    "\n",
    "def display():\n",
    "\tglClear(GL_COLOR_BUFFER_BIT | GL_DEPTH_BUFFER_BIT)\n",
    "\tglColor3f(1.0, 0.0, 0.0)\n",
    "\tglBegin(GL_QUADS)\n",
    "\tglVertex3f(-0.5, -0.5, 0.0)\n",
    "\tglVertex3f(0.5, -0.5, 0.0)\n",
    "\tglVertex3f(0.5, 0.5, 0.0)\n",
    "\tglVertex3f(-0.5, 0.5, 0.0)\n",
    "\tglEnd()\n",
    "\tglFlush()\n",
    "\n",
    "\n",
    "glutInit(sys.argv)\n",
    "glutInitDisplayMode(GLUT_SINGLE | GLUT_RGBA)\n",
    "glutInitWindowSize(400, 400)\n",
    "glutInitWindowPosition(50, 50)\n",
    "glutCreateWindow(b\"My OpenGL Window\")\n",
    "glutDisplayFunc(display)\n",
    "glutMainLoop()"
   ]
  }
 ],
 "metadata": {
  "kernelspec": {
   "display_name": "base",
   "language": "python",
   "name": "python3"
  },
  "language_info": {
   "codemirror_mode": {
    "name": "ipython",
    "version": 3
   },
   "file_extension": ".py",
   "mimetype": "text/x-python",
   "name": "python",
   "nbconvert_exporter": "python",
   "pygments_lexer": "ipython3",
   "version": "3.11.8"
  }
 },
 "nbformat": 4,
 "nbformat_minor": 2
}
