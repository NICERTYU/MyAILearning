{
 "cells": [
  {
   "cell_type": "code",
   "execution_count": 4,
   "metadata": {},
   "outputs": [
    {
     "name": "stdout",
     "output_type": "stream",
     "text": [
      "Looking in indexes: https://pypi.tuna.tsinghua.edu.cn/simple\n",
      "Requirement already satisfied: facenet_pytorch in /Users/gw/anaconda3/lib/python3.11/site-packages (2.6.0)\n",
      "Requirement already satisfied: numpy<2.0.0,>=1.24.0 in /Users/gw/anaconda3/lib/python3.11/site-packages (from facenet_pytorch) (1.24.4)\n",
      "Requirement already satisfied: Pillow<10.3.0,>=10.2.0 in /Users/gw/anaconda3/lib/python3.11/site-packages (from facenet_pytorch) (10.2.0)\n",
      "Requirement already satisfied: requests<3.0.0,>=2.0.0 in /Users/gw/anaconda3/lib/python3.11/site-packages (from facenet_pytorch) (2.31.0)\n",
      "Requirement already satisfied: torch<2.3.0,>=2.2.0 in /Users/gw/anaconda3/lib/python3.11/site-packages (from facenet_pytorch) (2.2.2)\n",
      "Requirement already satisfied: torchvision<0.18.0,>=0.17.0 in /Users/gw/anaconda3/lib/python3.11/site-packages (from facenet_pytorch) (0.17.2)\n",
      "Requirement already satisfied: tqdm<5.0.0,>=4.0.0 in /Users/gw/anaconda3/lib/python3.11/site-packages (from facenet_pytorch) (4.66.5)\n",
      "Requirement already satisfied: charset-normalizer<4,>=2 in /Users/gw/anaconda3/lib/python3.11/site-packages (from requests<3.0.0,>=2.0.0->facenet_pytorch) (3.3.2)\n",
      "Requirement already satisfied: idna<4,>=2.5 in /Users/gw/anaconda3/lib/python3.11/site-packages (from requests<3.0.0,>=2.0.0->facenet_pytorch) (3.4)\n",
      "Requirement already satisfied: urllib3<3,>=1.21.1 in /Users/gw/anaconda3/lib/python3.11/site-packages (from requests<3.0.0,>=2.0.0->facenet_pytorch) (2.0.7)\n",
      "Requirement already satisfied: certifi>=2017.4.17 in /Users/gw/anaconda3/lib/python3.11/site-packages (from requests<3.0.0,>=2.0.0->facenet_pytorch) (2024.8.30)\n",
      "Requirement already satisfied: filelock in /Users/gw/anaconda3/lib/python3.11/site-packages (from torch<2.3.0,>=2.2.0->facenet_pytorch) (3.13.1)\n",
      "Requirement already satisfied: typing-extensions>=4.8.0 in /Users/gw/anaconda3/lib/python3.11/site-packages (from torch<2.3.0,>=2.2.0->facenet_pytorch) (4.12.2)\n",
      "Requirement already satisfied: sympy in /Users/gw/anaconda3/lib/python3.11/site-packages (from torch<2.3.0,>=2.2.0->facenet_pytorch) (1.12)\n",
      "Requirement already satisfied: networkx in /Users/gw/anaconda3/lib/python3.11/site-packages (from torch<2.3.0,>=2.2.0->facenet_pytorch) (3.1)\n",
      "Requirement already satisfied: jinja2 in /Users/gw/anaconda3/lib/python3.11/site-packages (from torch<2.3.0,>=2.2.0->facenet_pytorch) (3.1.3)\n",
      "Requirement already satisfied: fsspec in /Users/gw/anaconda3/lib/python3.11/site-packages (from torch<2.3.0,>=2.2.0->facenet_pytorch) (2023.10.0)\n",
      "Requirement already satisfied: MarkupSafe>=2.0 in /Users/gw/anaconda3/lib/python3.11/site-packages (from jinja2->torch<2.3.0,>=2.2.0->facenet_pytorch) (2.1.3)\n",
      "Requirement already satisfied: mpmath>=0.19 in /Users/gw/anaconda3/lib/python3.11/site-packages (from sympy->torch<2.3.0,>=2.2.0->facenet_pytorch) (1.3.0)\n"
     ]
    }
   ],
   "source": [
    "!pip install facenet_pytorch"
   ]
  },
  {
   "cell_type": "code",
   "execution_count": 10,
   "metadata": {},
   "outputs": [
    {
     "name": "stderr",
     "output_type": "stream",
     "text": [
      "OpenCV: Couldn't read video stream from file \"your_video.mp4\"\n"
     ]
    }
   ],
   "source": [
    "import cv2\n",
    "\n",
    "# 加载 Haar Cascade 模型\n",
    "face_cascade = cv2.CascadeClassifier(cv2.data.haarcascades + 'haarcascade_frontalface_default.xml')\n",
    "\n",
    "video_path = \"your_video.mp4\"  # 这里替换成你的视频路径\n",
    "video = cv2.VideoCapture(video_path)\n",
    "\n",
    "\n",
    "while True:\n",
    "    ret, frame = video.read()\n",
    "    if not ret:\n",
    "        break\n",
    "\n",
    "    # 将视频帧转换为灰度图像\n",
    "    gray = cv2.cvtColor(frame, cv2.COLOR_BGR2GRAY)\n",
    "\n",
    "    # 检测人脸\n",
    "    faces = face_cascade.detectMultiScale(gray, scaleFactor=1.1, minNeighbors=5, minSize=(30, 30))\n",
    "\n",
    "    # 绘制检测到的人脸框\n",
    "    for (x, y, w, h) in faces:\n",
    "        cv2.rectangle(frame, (x, y), (x + w, y + h), (255, 0, 0), 2)\n",
    "\n",
    "    # 显示检测结果\n",
    "    cv2.imshow('Face Detection', frame)\n",
    "\n",
    "    # 按下q键退出\n",
    "    if cv2.waitKey(1) & 0xFF == ord('q'):\n",
    "        break\n",
    "\n",
    "# 释放视频流\n",
    "video.release()\n",
    "cv2.destroyAllWindows()\n"
   ]
  }
 ],
 "metadata": {
  "kernelspec": {
   "display_name": "base",
   "language": "python",
   "name": "python3"
  },
  "language_info": {
   "codemirror_mode": {
    "name": "ipython",
    "version": 3
   },
   "file_extension": ".py",
   "mimetype": "text/x-python",
   "name": "python",
   "nbconvert_exporter": "python",
   "pygments_lexer": "ipython3",
   "version": "3.11.8"
  }
 },
 "nbformat": 4,
 "nbformat_minor": 2
}
